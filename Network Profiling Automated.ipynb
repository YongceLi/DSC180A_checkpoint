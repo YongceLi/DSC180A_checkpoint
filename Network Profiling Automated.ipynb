{
 "cells": [
  {
   "cell_type": "code",
   "execution_count": 96,
   "id": "91ea6e67",
   "metadata": {},
   "outputs": [],
   "source": [
    "import json\n",
    "import pandas as pd\n",
    "import numpy as np\n",
    "from collections import Counter\n",
    "import openai\n",
    "import os\n",
    "from tqdm import tqdm\n",
    "import time\n",
    "openai.api_key = os.getenv(\"OPENAI_API_KEY\")"
   ]
  },
  {
   "cell_type": "code",
   "execution_count": 97,
   "id": "80a8908e",
   "metadata": {},
   "outputs": [],
   "source": [
    "def get_gpt_output(prompt, temperature=0, pp=0, max_tokens = 2048):\n",
    "    try:\n",
    "        conversation = [{'role': 'user', 'content': prompt}]\n",
    "        response = openai.ChatCompletion.create(\n",
    "            model=\"gpt-4-0613\",\n",
    "            messages=conversation,\n",
    "            temperature=temperature,\n",
    "            request_timeout=120,\n",
    "            presence_penalty=pp,\n",
    "            max_tokens=max_tokens,\n",
    "            top_p=1,\n",
    "            frequency_penalty=0)\n",
    "        content = response.choices[0]['message']['content']\n",
    "        role = response.choices[0]['message']['role']\n",
    "        conversation.append({'role': role, 'content': content})\n",
    "        return conversation[-1]['content'], response\n",
    "    except:\n",
    "        print(\"*** ChatGPT has time out. If you see this message too many times, please consider stop ***\")\n",
    "        time.sleep(30)\n",
    "        return get_gpt_output(prompt, temperature)"
   ]
  },
  {
   "cell_type": "code",
   "execution_count": 135,
   "id": "3ec37f77",
   "metadata": {},
   "outputs": [],
   "source": [
    "df = pd.read_csv('./resnet50/descriptions.csv')\n",
    "NN_type = \"ResNet-50\"\n",
    "uninterpretable_threshold = 0.16\n",
    "profile = {item: {} for item in list(df[\"layer\"].unique())}"
   ]
  },
  {
   "cell_type": "code",
   "execution_count": null,
   "id": "274ae2c2",
   "metadata": {},
   "outputs": [],
   "source": []
  },
  {
   "cell_type": "code",
   "execution_count": 136,
   "id": "5e4bdc38",
   "metadata": {},
   "outputs": [],
   "source": [
    "df_interpretable = df[df[\"similarity\"] > uninterpretable_threshold]\n",
    "concepts_list = list(df_interpretable[\"description\"].unique())"
   ]
  },
  {
   "cell_type": "code",
   "execution_count": 137,
   "id": "bbb84e9e",
   "metadata": {},
   "outputs": [],
   "source": [
    "categories = [\"object\", \"part\", \"scene\", \"material\", \"texture\", \"color\", \"unknown\"]"
   ]
  },
  {
   "cell_type": "code",
   "execution_count": 138,
   "id": "c04cf523",
   "metadata": {},
   "outputs": [
    {
     "name": "stderr",
     "output_type": "stream",
     "text": [
      "100%|██████████████████████████████████████████████████████████████████████████████████| 32/32 [07:03<00:00, 13.24s/it]\n"
     ]
    }
   ],
   "source": [
    "concept2category_dict = {}\n",
    "for i in tqdm(range(0, len(concepts_list), 20)):\n",
    "    curr_concepts = ', '.join(concepts_list[i: i + 20])\n",
    "    curr_prompt = f\"\"\"Example input:\n",
    "    categorize the following concepts into the given categories, for concepts that are not interpretable words, categorize them into \"unknown\" category: \n",
    "\n",
    "    concepts: magenta, garrison, aa, teal, flying, stripe, hair, aluminum\n",
    "\n",
    "    categories: object, part, scene, material, texture, color, unknown\n",
    "\n",
    "    Example output:\n",
    "    {{\"magenta\": \"color\", \"aa\": \"unknown\", \"teal\": \"object\", \"flying\": \"scene\", \"stripe\": \"texture\", \"hair\": \"part\", \"aluminum\": \"material\"}}\n",
    "\n",
    "    Now, categorize the following concepts into the given categories, for concepts that are not interpretable words, categorize them into \"unknown\" category:\n",
    "\n",
    "    concepts: {curr_concepts}\n",
    "\n",
    "    categories: object, part, scene, material, texture, color, unknown\n",
    "    \"\"\"\n",
    "    ret, response = get_gpt_output(curr_prompt)\n",
    "    try:\n",
    "        concept2category_dict.update(eval(ret))\n",
    "    except:\n",
    "        print(\"not expected output format, try again ...\")\n",
    "        ret, response = get_gpt_output(curr_prompt)\n",
    "        concept2category_dict.update(eval(ret))"
   ]
  },
  {
   "cell_type": "code",
   "execution_count": 139,
   "id": "d8bd5895",
   "metadata": {},
   "outputs": [
    {
     "name": "stderr",
     "output_type": "stream",
     "text": [
      "C:\\Users\\yongc\\AppData\\Local\\Temp\\ipykernel_47036\\984753025.py:1: SettingWithCopyWarning: \n",
      "A value is trying to be set on a copy of a slice from a DataFrame.\n",
      "Try using .loc[row_indexer,col_indexer] = value instead\n",
      "\n",
      "See the caveats in the documentation: https://pandas.pydata.org/pandas-docs/stable/user_guide/indexing.html#returning-a-view-versus-a-copy\n",
      "  df_interpretable[\"category\"] = df_interpretable[\"description\"].apply(lambda x: concept2category_dict[x])\n"
     ]
    }
   ],
   "source": [
    "df_interpretable[\"category\"] = df_interpretable[\"description\"].apply(lambda x: concept2category_dict[x])"
   ]
  },
  {
   "cell_type": "code",
   "execution_count": null,
   "id": "710c2c2f",
   "metadata": {},
   "outputs": [],
   "source": []
  },
  {
   "cell_type": "code",
   "execution_count": 140,
   "id": "38e52249",
   "metadata": {},
   "outputs": [],
   "source": [
    "for layer_name in profile:\n",
    "    index = list(df_interpretable[df_interpretable[\"layer\"] == layer_name].groupby(\"category\").count()[\"description\"].index)\n",
    "    for category in categories:\n",
    "        if category in index:\n",
    "            profile[layer_name][category] = df_interpretable[df_interpretable[\"layer\"] == layer_name].groupby(\"category\").count()[\"description\"][category]\n",
    "        else:\n",
    "            profile[layer_name][category] = 0\n",
    "uninterpretable_table = df[df[\"similarity\"] <= uninterpretable_threshold].groupby(\"layer\").count()[\"unit\"]\n",
    "for layer_name in profile:\n",
    "    profile[layer_name][\"uninterpretable\"] = uninterpretable_table[layer_name]"
   ]
  },
  {
   "cell_type": "code",
   "execution_count": 141,
   "id": "caa862eb",
   "metadata": {},
   "outputs": [
    {
     "name": "stdout",
     "output_type": "stream",
     "text": [
      "[array([0, 1, 2, 3, 4, 5, 6, 7]), [0.15, 1.15, 2.15, 3.15, 4.15, 5.15, 6.15, 7.15], [0.3, 1.3, 2.3, 3.3, 4.3, 5.3, 6.3, 7.3], [0.44999999999999996, 1.45, 2.45, 3.45, 4.45, 5.45, 6.45, 7.45], [0.6, 1.6, 2.6, 3.6, 4.6, 5.6, 6.6, 7.6]]\n"
     ]
    },
    {
     "data": {
      "image/png": "[encoded data removed]",
      "text/plain": [
       "<Figure size 640x480 with 1 Axes>"
      ]
     },
     "metadata": {},
     "output_type": "display_data"
    }
   ],
   "source": [
    "import matplotlib.pyplot as plt\n",
    "import numpy as np\n",
    "cmap = plt.get_cmap('rainbow')\n",
    "colors = cmap(np.linspace(0, 1, len(profile)))\n",
    "normalize = True\n",
    "categories.append(\"uninterpretable\")\n",
    "\n",
    "# Given dictionaries\n",
    "dict_values = []\n",
    "for key in profile:\n",
    "    curr_layer_dist = profile[key]\n",
    "    labels = list(curr_layer_dist.keys())\n",
    "    dict_values.append(list(curr_layer_dist.values()))\n",
    "    \n",
    "if normalize:\n",
    "    for i in range(len(dict_values)):\n",
    "        dict_values[i] = [item / sum(dict_values[i]) for item in dict_values[i]]\n",
    "\n",
    "# Set bar width and positions\n",
    "num_dicts = 5\n",
    "bar_width = 0.15\n",
    "r = []\n",
    "r.append(np.arange(len(dict_values[0])))\n",
    "for i in range(1, len(profile)):\n",
    "    r.append([x + bar_width * i for x in r[0]])\n",
    "\n",
    "print(r)\n",
    "# Create bars\n",
    "for i in range(len(profile)):\n",
    "    plt.bar(r[i], dict_values[i], width = bar_width, color = colors[i], edgecolor = \"black\", label = list(profile.keys())[i])\n",
    "\n",
    "#plt.bar(r[0], dict_values[0], label = \"encoder\")\n",
    "# Label the axes and the plot\n",
    "plt.xlabel('detected concepts categories')\n",
    "plt.xticks([r + bar_width*2 for r in range(len(labels))], labels)  # Center the x-axis labels\n",
    "#plt.xticks([r for r in range(len(labels))], labels)\n",
    "plt.ylabel('Frequency')\n",
    "if normalize:\n",
    "    plt.ylabel('Percentage')\n",
    "plt.title(f'{NN_type}')\n",
    "if normalize:\n",
    "    plt.title(f'{NN_type} - normalized')\n",
    "plt.xticks(rotation=30)\n",
    "# Add legend\n",
    "plt.legend()\n",
    "\n",
    "# Show plot\n",
    "plt.tight_layout()\n",
    "plt.savefig('ResNet_50_profile.pdf', format='pdf')\n",
    "plt.show()"
   ]
  },
  {
   "cell_type": "markdown",
   "id": "121c2bf5",
   "metadata": {},
   "source": [
    "# determine uninterpretable threshold"
   ]
  },
  {
   "cell_type": "code",
   "execution_count": 142,
   "id": "2585b622",
   "metadata": {},
   "outputs": [],
   "source": [
    "df = pd.read_csv('./ViT_b_16/descriptions.csv')"
   ]
  },
  {
   "cell_type": "code",
   "execution_count": 143,
   "id": "23c9d667",
   "metadata": {},
   "outputs": [],
   "source": [
    "encoder_random_id_50 = [5, 11, 23, 28, 30, 31, 37, 45, 61, 81, 82, 113, 122, 124, 137, 139, 147, 186, 198, 225, 239, 251, 252, 271, 276, 308, 341, 356, 370, 398, 412, 416, 438, 460, 485, 517, 518, 536, 572, 576, 606, 614, 615, 633, 666, 667, 670, 690, 760, 767]\n",
    "encoder_0_random_id_50 = [24, 36, 44, 58, 69, 107, 109, 128, 148, 196, 202, 216, 224, 231, 237, 252, 281, 282, 287, 290, 312, 318, 340, 342, 347, 371, 373, 386, 399, 402, 447, 460, 461, 467, 471, 564, 594, 615, 645, 672, 697, 704, 708, 715, 721, 741, 750, 751, 759, 765]\n",
    "encoder_3_random_id_50 = [20, 29, 32, 79, 95, 100, 132, 159, 163, 169, 209, 217, 218, 230, 239, 240, 273, 282, 290, 327, 329, 356, 361, 376, 388, 462, 468, 474, 489, 505, 513, 515, 518, 529, 545, 547, 561, 584, 643, 644, 660, 675, 678, 690, 694, 709, 729, 743, 746, 747]\n",
    "encoder_6_random_id_50 = [1, 8, 15, 29, 33, 45, 47, 50, 74, 89, 93, 94, 96, 110, 154, 224, 235, 277, 293, 299, 309, 310, 333, 365, 384, 391, 406, 413, 420, 424, 438, 460, 531, 546, 558, 588, 601, 622, 639, 643, 652, 658, 660, 663, 712, 715, 716, 732, 743, 765]\n",
    "encoder_9_random_id_50 = [7, 8, 13, 30, 69, 74, 75, 101, 105, 133, 159, 176, 212, 239, 246, 282, 286, 294, 326, 330, 331, 332, 341, 343, 345, 357, 366, 368, 416, 429, 461, 512, 522, 538, 545, 550, 552, 555, 599, 608, 633, 643, 662, 672, 687, 706, 711, 716, 742, 745]"
   ]
  },
  {
   "cell_type": "code",
   "execution_count": 144,
   "id": "b8e62874",
   "metadata": {},
   "outputs": [],
   "source": [
    "encoder_score_50 = [0, 1, 0, 1, 1, 1, 0.5, 1, 0.5, 0.5, 1, 0.5, 0, 0, 1, 0.5, 0, 1, 0.5, 0.5, 0.5, 1, 0, 0, 0, 0.5, 1, 0, 0, 0, 0.5, 0.5, 1, 0, 0, 0, 0.5, 0.5, 0, 1, 0.5, 1, 0.5, 0, 0, 1, 1, 1, 0, 1]\n",
    "encoder_0_score_50 = [0.5, 0.5, 1, 1, 1, 1, 1, 0.5, 0.5, 0, 1, 0.5, 1, 0, 1, 1, 1, 1, 1, 0, 1, 1, 0, 1, 1, 1, 1, 1, 0.5, 1, 1, 0, 0, 0, 1, 1, 1, 0, 0, 0.5, 1, 0, 0, 1, 0, 0.5, 1, 1, 1, 0]\n",
    "encoder_3_score_50 = [1, 0, 0.5, 1, 1, 1, 0, 1, 1, 1, 1, 1, 1, 1, 0.5, 0, 0.5, 1, 0, 0.5, 1, 0, 0.5, 1, 0, 0, 0, 0, 0, 1, 0.5, 0, 0, 0, 0, 0.5, 1, 0, 0, 0, 0.5, 0, 1, 1, 0.5, 1, 1, 1, 1, 1]\n",
    "encoder_6_score_50 = [1, 0, 1, 0, 0, 0, 0.5, 0.5, 0, 0.5, 1, 1, 0, 1, 0, 0, 0.5, 1, 0, 1, 0, 0.5, 1, 0, 1, 1, 0.5, 1, 1, 0.5, 0.5, 0, 0, 0.5, 0.5, 0, 0.5, 1, 1, 0, 1, 0.5, 1, 0.5, 0.5, 0.5, 0.5, 0.5, 0, 1]\n",
    "encoder_9_score_50 = [0, 0, 0, 0.5, 1, 0, 0, 0, 0, 0.5, 0.5, 0.5, 0.5, 0.5, 1, 0, 0.5, 0, 1, 0, 0, 0.5, 0.5, 0.5, 0, 0.5, 0.5, 0, 0, 0.5, 0, 0, 0, 0.5, 0, 1, 0, 0, 0.5, 1, 0, 0.5, 0, 0.5, 0.5, 1, 0, 0.5, 1, 0.5]"
   ]
  },
  {
   "cell_type": "code",
   "execution_count": 55,
   "id": "114af1d7",
   "metadata": {},
   "outputs": [
    {
     "data": {
      "text/html": [
       "<div>\n",
       "<style scoped>\n",
       "    .dataframe tbody tr th:only-of-type {\n",
       "        vertical-align: middle;\n",
       "    }\n",
       "\n",
       "    .dataframe tbody tr th {\n",
       "        vertical-align: top;\n",
       "    }\n",
       "\n",
       "    .dataframe thead th {\n",
       "        text-align: right;\n",
       "    }\n",
       "</style>\n",
       "<table border=\"1\" class=\"dataframe\">\n",
       "  <thead>\n",
       "    <tr style=\"text-align: right;\">\n",
       "      <th></th>\n",
       "      <th>layer</th>\n",
       "      <th>unit</th>\n",
       "      <th>description</th>\n",
       "      <th>similarity</th>\n",
       "    </tr>\n",
       "  </thead>\n",
       "  <tbody>\n",
       "    <tr>\n",
       "      <th>0</th>\n",
       "      <td>encoder</td>\n",
       "      <td>0</td>\n",
       "      <td>aquaculture</td>\n",
       "      <td>0.072388</td>\n",
       "    </tr>\n",
       "    <tr>\n",
       "      <th>1</th>\n",
       "      <td>encoder</td>\n",
       "      <td>1</td>\n",
       "      <td>stairs</td>\n",
       "      <td>0.081757</td>\n",
       "    </tr>\n",
       "    <tr>\n",
       "      <th>2</th>\n",
       "      <td>encoder</td>\n",
       "      <td>2</td>\n",
       "      <td>chefs</td>\n",
       "      <td>0.117432</td>\n",
       "    </tr>\n",
       "    <tr>\n",
       "      <th>3</th>\n",
       "      <td>encoder</td>\n",
       "      <td>3</td>\n",
       "      <td>screened</td>\n",
       "      <td>0.122528</td>\n",
       "    </tr>\n",
       "    <tr>\n",
       "      <th>4</th>\n",
       "      <td>encoder</td>\n",
       "      <td>4</td>\n",
       "      <td>corridors</td>\n",
       "      <td>0.212097</td>\n",
       "    </tr>\n",
       "    <tr>\n",
       "      <th>...</th>\n",
       "      <td>...</td>\n",
       "      <td>...</td>\n",
       "      <td>...</td>\n",
       "      <td>...</td>\n",
       "    </tr>\n",
       "    <tr>\n",
       "      <th>3835</th>\n",
       "      <td>encoder.layers.encoder_layer_9</td>\n",
       "      <td>763</td>\n",
       "      <td>antarctic</td>\n",
       "      <td>0.079468</td>\n",
       "    </tr>\n",
       "    <tr>\n",
       "      <th>3836</th>\n",
       "      <td>encoder.layers.encoder_layer_9</td>\n",
       "      <td>764</td>\n",
       "      <td>field</td>\n",
       "      <td>0.138641</td>\n",
       "    </tr>\n",
       "    <tr>\n",
       "      <th>3837</th>\n",
       "      <td>encoder.layers.encoder_layer_9</td>\n",
       "      <td>765</td>\n",
       "      <td>stairs</td>\n",
       "      <td>0.220490</td>\n",
       "    </tr>\n",
       "    <tr>\n",
       "      <th>3838</th>\n",
       "      <td>encoder.layers.encoder_layer_9</td>\n",
       "      <td>766</td>\n",
       "      <td>textile</td>\n",
       "      <td>0.101074</td>\n",
       "    </tr>\n",
       "    <tr>\n",
       "      <th>3839</th>\n",
       "      <td>encoder.layers.encoder_layer_9</td>\n",
       "      <td>767</td>\n",
       "      <td>supervisory</td>\n",
       "      <td>0.089355</td>\n",
       "    </tr>\n",
       "  </tbody>\n",
       "</table>\n",
       "<p>3840 rows × 4 columns</p>\n",
       "</div>"
      ],
      "text/plain": [
       "                               layer  unit  description  similarity\n",
       "0                            encoder     0  aquaculture    0.072388\n",
       "1                            encoder     1       stairs    0.081757\n",
       "2                            encoder     2        chefs    0.117432\n",
       "3                            encoder     3     screened    0.122528\n",
       "4                            encoder     4    corridors    0.212097\n",
       "...                              ...   ...          ...         ...\n",
       "3835  encoder.layers.encoder_layer_9   763    antarctic    0.079468\n",
       "3836  encoder.layers.encoder_layer_9   764        field    0.138641\n",
       "3837  encoder.layers.encoder_layer_9   765       stairs    0.220490\n",
       "3838  encoder.layers.encoder_layer_9   766      textile    0.101074\n",
       "3839  encoder.layers.encoder_layer_9   767  supervisory    0.089355\n",
       "\n",
       "[3840 rows x 4 columns]"
      ]
     },
     "execution_count": 55,
     "metadata": {},
     "output_type": "execute_result"
    }
   ],
   "source": [
    "df"
   ]
  },
  {
   "cell_type": "code",
   "execution_count": 69,
   "id": "db778fc6",
   "metadata": {},
   "outputs": [],
   "source": [
    "similarity.extend((list(df[(df[\"layer\"] == \"encoder.layers.encoder_layer_9\") & (df[\"unit\"].apply(lambda x: x in encoder_9_random_id_50))][\"similarity\"].values)))"
   ]
  },
  {
   "cell_type": "code",
   "execution_count": 76,
   "id": "e38f0e16",
   "metadata": {},
   "outputs": [],
   "source": [
    "scores.extend(encoder_9_score_50)"
   ]
  },
  {
   "cell_type": "code",
   "execution_count": 78,
   "id": "88cfaf19",
   "metadata": {},
   "outputs": [],
   "source": [
    "df_threshold = pd.DataFrame()\n",
    "df_threshold[\"similarity\"] = similarity\n",
    "df_threshold[\"scores\"] = scores"
   ]
  },
  {
   "cell_type": "code",
   "execution_count": 131,
   "id": "f1403f36",
   "metadata": {},
   "outputs": [
    {
     "name": "stdout",
     "output_type": "stream",
     "text": [
      "0.51\n"
     ]
    },
    {
     "data": {
      "text/plain": [
       "0.6096354166666667"
      ]
     },
     "execution_count": 131,
     "metadata": {},
     "output_type": "execute_result"
    }
   ],
   "source": [
    "import numpy as np\n",
    "print(np.mean(df_threshold[\"scores\"].values))\n",
    "np.mean(df_threshold[df_threshold[\"similarity\"] > 0.16][\"scores\"].values)\n",
    "len(df[df[\"similarity\"] > 0.12]) / len(df)"
   ]
  },
  {
   "cell_type": "code",
   "execution_count": null,
   "id": "6fe7b96e",
   "metadata": {},
   "outputs": [],
   "source": []
  }
 ],
 "metadata": {
  "kernelspec": {
   "display_name": "Python 3 (ipykernel)",
   "language": "python",
   "name": "python3"
  },
  "language_info": {
   "codemirror_mode": {
    "name": "ipython",
    "version": 3
   },
   "file_extension": ".py",
   "mimetype": "text/x-python",
   "name": "python",
   "nbconvert_exporter": "python",
   "pygments_lexer": "ipython3",
   "version": "3.11.5"
  }
 },
 "nbformat": 4,
 "nbformat_minor": 5
}
